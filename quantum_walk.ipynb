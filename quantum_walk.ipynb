{
  "nbformat": 4,
  "nbformat_minor": 0,
  "metadata": {
    "colab": {
      "name": "quantum_walk.ipynb",
      "provenance": [],
      "collapsed_sections": [],
      "include_colab_link": true
    },
    "kernelspec": {
      "name": "python3",
      "display_name": "Python 3"
    },
    "language_info": {
      "name": "python"
    }
  },
  "cells": [
    {
      "cell_type": "markdown",
      "metadata": {
        "id": "view-in-github",
        "colab_type": "text"
      },
      "source": [
        "<a href=\"https://colab.research.google.com/github/jordi1215/quantum-walk-visualization/blob/main/quantum_walk.ipynb\" target=\"_parent\"><img src=\"https://colab.research.google.com/assets/colab-badge.svg\" alt=\"Open In Colab\"/></a>"
      ]
    },
    {
      "cell_type": "markdown",
      "metadata": {
        "id": "SwUTQy7sD3DP"
      },
      "source": [
        "Our project is an implementation of a *quantum walk*.\n",
        "\n",
        "**What is a quantum walk?**\n",
        "\n",
        "A quantum walk is an implementation of a *random walk* using *quantum computing*.\n",
        "\n",
        "This leads to the question... **What is a random walk?**\n",
        "\n",
        "A random walk is a traversal of a *Markov chain*. A Markov chain is a graph with directed, weighted edges. The weights of the edges represent the probability of that edge being traversed. All the weights of the outgoing edges from a node have to add up to *1*, since it's a probability.\n",
        "\n",
        "A little confusing? Here's an example.\n"
      ]
    },
    {
      "cell_type": "markdown",
      "metadata": {
        "id": "B6Oewrg9Gc-d"
      },
      "source": [
        "![](https://drive.google.com/uc?export=view&id=1-CCHJuHc0n74Z4DU8uemPktWFbv-JLIu)"
      ]
    },
    {
      "cell_type": "markdown",
      "metadata": {
        "id": "MD-OXKCjHD5Y"
      },
      "source": [
        "**Why are random walks useful?**\n",
        "\n",
        "Random walks are used to model many processes in Chemistry, Physics and Biology. For example, they can give us a good understanding of the statistical processes involved in genetic drift, and they describe an ideal chain in polymer physics. They are also important in finance, psychology, ecology and computer science.\n",
        "\n",
        "Source: Statistics How-To"
      ]
    },
    {
      "cell_type": "code",
      "metadata": {
        "id": "Ndnbs3qNhSdr"
      },
      "source": [
        "# install necessary dependencies\n",
        "!pip install retworkx\n",
        "!pip install pydot pillow\n",
        "!pip install qiskit\n",
        "!apt install graphviz\n",
        "!pip install pylatexenc\n",
        "\n",
        "import retworkx\n",
        "from retworkx.visualization import graphviz_draw, mpl_draw\n",
        "import pylatexenc\n",
        "import matplotlib.pyplot as plt\n",
        "from qiskit import *\n",
        "import numpy as np\n",
        "import networkx as nx\n",
        "import numpy.linalg as la\n",
        "from scipy.linalg import expm\n",
        "from qiskit.extensions import HamiltonianGate\n",
        "from qiskit.visualization import plot_histogram\n",
        "import imageio"
      ],
      "execution_count": null,
      "outputs": []
    },
    {
      "cell_type": "code",
      "metadata": {
        "id": "I03tT7JlnimE"
      },
      "source": [
        "def pad_zeros(adjacency):\n",
        "    '''\n",
        "    Helper function for padding zeros to increase adjacency\n",
        "    matrix of shape (n,n) to (2**n, 2**n).\n",
        "\n",
        "    Parameters: adjacency (ndarray): adjacency of graph\n",
        "    Returns: full_matrix (ndarray): new adjacency with padded zeroes\n",
        "    '''\n",
        "    full_matrix = np.zeros((2 ** len(adjacency), 2 ** len(adjacency)))\n",
        "    for i in range(len(adjacency)):\n",
        "        for j in range(len(adjacency)):\n",
        "            if adjacency[i][j] != 0:\n",
        "                full_matrix[2 ** i][2 ** j] = adjacency[i][j]\n",
        "    return full_matrix"
      ],
      "execution_count": null,
      "outputs": []
    },
    {
      "cell_type": "markdown",
      "metadata": {
        "id": "YaI6rIo7PTW1"
      },
      "source": [
        "In the following block of code, we construct a simple path on two vertices and path on three vertices. We also show the function of the pad_zeros function, increasing the dimensionality of the adjacencies to fit our needs."
      ]
    },
    {
      "cell_type": "code",
      "metadata": {
        "id": "9BIUKjtGoNHo"
      },
      "source": [
        "# construct path on 2 and three vertices and get adjacency\n",
        "P2 = nx.path_graph(2)\n",
        "P3 = nx.path_graph(3)\n",
        "adj_P2 = nx.adjacency_matrix(P2).toarray()\n",
        "adj_P3 = nx.adjacency_matrix(P3).toarray()\n",
        "\n",
        "# pad adjacency with zeroes to increase dimensionality\n",
        "full_mat_P2 = pad_zeros(adj_P2)\n",
        "full_mat_P3 = pad_zeros(adj_P3)"
      ],
      "execution_count": null,
      "outputs": []
    },
    {
      "cell_type": "markdown",
      "metadata": {
        "id": "22w8VOrdQCfh"
      },
      "source": [
        "We can use the adjacency matrix ($A$) as the Hamiltonian operator ($H$) of the quantum system, satisfying the Schrodinger equation $i \\hbar \\dot{\\psi}=H\\psi$. The adjacency matrices are Hermitian, and so $e^{-iAt}$ (the solution to this equation) is a unitary matrix. We can use this matrix exponential as the evolution operator on our quantum system of qubits. These are constructed using qiskit's HamiltonianGate object."
      ]
    },
    {
      "cell_type": "code",
      "metadata": {
        "id": "C1vC1OKLoiOO"
      },
      "source": [
        "# construct HamiltonianGate from padded adjacencies\n",
        "ExpGateP2 = HamiltonianGate(full_mat_P2, np.pi/2)\n",
        "ExpGateP3 = HamiltonianGate(full_mat_P3, np.pi/2)"
      ],
      "execution_count": null,
      "outputs": []
    },
    {
      "cell_type": "markdown",
      "metadata": {
        "id": "AMGXxpXyST_-"
      },
      "source": [
        "We can now use these gates in a quantum circuit to simulate a quantum walk. We put the state of the system in $|01>$ and evolve it over a time interval of $\\frac{\\pi}{2}$. We can measure each qubit to get the final state of the system. "
      ]
    },
    {
      "cell_type": "code",
      "metadata": {
        "id": "wyYx66dFo5uu"
      },
      "source": [
        "# construct quantum circuit for path on two vertices\n",
        "qr_P2 = QuantumRegister(2, 'q')\n",
        "cr_P2 = ClassicalRegister(2)\n",
        "circ_P2 = QuantumCircuit(qr_P2, cr_P2)\n",
        "\n",
        "# initialize in state |100> and add measurements\n",
        "circ_P2.x(0)\n",
        "circ_P2.append(ExpGateP2, qr_P2)\n",
        "for i in range(len(qr_P2)):\n",
        "    circ_P2.measure(qr_P2[i], cr_P2[i])"
      ],
      "execution_count": null,
      "outputs": []
    },
    {
      "cell_type": "code",
      "metadata": {
        "id": "KptTc8O9pZcF",
        "colab": {
          "base_uri": "https://localhost:8080/",
          "height": 185
        },
        "outputId": "bccbd483-03db-4aba-de57-c153fcef3abc"
      },
      "source": [
        "# visualize quantum circuit\n",
        "circ_P2.draw(output='mpl')"
      ],
      "execution_count": null,
      "outputs": [
        {
          "output_type": "execute_result",
          "data": {
            "image/png": "[encoded data removed]",
            "text/plain": [
              "<Figure size 447.652x204.68 with 1 Axes>"
            ]
          },
          "metadata": {},
          "execution_count": 8
        }
      ]
    },
    {
      "cell_type": "markdown",
      "metadata": {
        "id": "FW7-GzixTZNa"
      },
      "source": [
        "We know from the mathematical literature on quantum walks that a path on two vertices exhibits \"perfect state transfer\" (PST) at time $\\frac{\\pi}{2}$, and so the result of this circuit should always yield $|10>$ if it starts in the state $|01>$ and vice-versa. Below, we show that the resulting counts reflect this property of the graph."
      ]
    },
    {
      "cell_type": "code",
      "metadata": {
        "id": "KJ0wawXyS8Cs",
        "colab": {
          "base_uri": "https://localhost:8080/"
        },
        "outputId": "a2288c14-377f-47fc-93eb-526f70579dcf"
      },
      "source": [
        "# simulate circuit from path on two vertices\n",
        "job = execute(circ_P2, backend=BasicAer.get_backend('qasm_simulator'))\n",
        "counts = [job.result().get_counts(i) for i in range(len(job.result().results))]\n",
        "print(\"Resulting Counts:\", counts)"
      ],
      "execution_count": null,
      "outputs": [
        {
          "output_type": "stream",
          "name": "stdout",
          "text": [
            "Resulting Counts: [{'10': 1024}]\n"
          ]
        }
      ]
    },
    {
      "cell_type": "markdown",
      "metadata": {
        "id": "bpqo0LhuT7P4"
      },
      "source": [
        "We repeat a similar process as above for the path on three vertices."
      ]
    },
    {
      "cell_type": "code",
      "metadata": {
        "id": "KkkGjd5-pPlq"
      },
      "source": [
        "# construct quantum circuit for path on three vertices\n",
        "qr_P3 = QuantumRegister(3, 'q')\n",
        "cr_P3 = ClassicalRegister(3)\n",
        "circ_P3 = QuantumCircuit(qr_P3, cr_P3)\n",
        "\n",
        "# initialize in state |100> and add measurements\n",
        "circ_P3.x(0)\n",
        "circ_P3.append(ExpGateP3, qr_P3)\n",
        "for i in range(len(qr_P3)):\n",
        "    circ_P3.measure(qr_P3[i], cr_P3[i])"
      ],
      "execution_count": null,
      "outputs": []
    },
    {
      "cell_type": "code",
      "metadata": {
        "id": "i6CMHXJxpejj",
        "colab": {
          "base_uri": "https://localhost:8080/",
          "height": 231
        },
        "outputId": "433cda95-6dd1-47f1-f2b0-f3b6ddadb291"
      },
      "source": [
        "# visualize quantum circuit\n",
        "circ_P3.draw(output='mpl')"
      ],
      "execution_count": null,
      "outputs": [
        {
          "output_type": "execute_result",
          "data": {
            "image/png": "[encoded data removed]",
            "text/plain": [
              "<Figure size 507.997x264.88 with 1 Axes>"
            ]
          },
          "metadata": {},
          "execution_count": 11
        }
      ]
    },
    {
      "cell_type": "markdown",
      "metadata": {
        "id": "k-E-vwH4UJ-x"
      },
      "source": [
        "Since the path on three vertices does not have PST at time $\\frac{\\pi}{2}$, we see that the resulting counts are distributed unevenly between the three different vertices. We also display these results in a histogram."
      ]
    },
    {
      "cell_type": "code",
      "metadata": {
        "id": "n-Vb-R4AUEjC",
        "colab": {
          "base_uri": "https://localhost:8080/",
          "height": 372
        },
        "outputId": "2e565dd1-3acb-4de9-eed1-a673950477c3"
      },
      "source": [
        "# simulate circuit from path on two vertices\n",
        "job = execute(circ_P3, backend=BasicAer.get_backend('qasm_simulator'))\n",
        "counts = [job.result().get_counts(i) for i in range(len(job.result().results))]\n",
        "print(\"Resulting Counts:\", counts)\n",
        "plot_histogram(job.result().get_counts(), color='midnightblue', title=\"Histogram of QW on P3\")"
      ],
      "execution_count": null,
      "outputs": [
        {
          "output_type": "stream",
          "name": "stdout",
          "text": [
            "Resulting Counts: [{'100': 678, '010': 305, '001': 41}]\n"
          ]
        },
        {
          "output_type": "execute_result",
          "data": {
            "image/png": "[encoded data removed]",
            "text/plain": [
              "<Figure size 504x360 with 1 Axes>"
            ]
          },
          "metadata": {},
          "execution_count": 12
        }
      ]
    },
    {
      "cell_type": "markdown",
      "metadata": {
        "id": "EFy3A_V-P1bR"
      },
      "source": [
        "Below we illustrate a different approach for representing a graph as qubits. While each qubit above corresponded to a node on the graph, we can instead represent more nodes on the graph by having each bitstring correspond to a different node. The quantum walk in both approaches works out the same mathematically and can thus be visualized similarly."
      ]
    },
    {
      "cell_type": "code",
      "metadata": {
        "id": "__OqyFKhrhrF"
      },
      "source": [
        "# construct random 8x8 matrix (3 qubits)\n",
        "random_matrix = np.zeros((8,8))\n",
        "for i in range(0,len(random_matrix)-1):\n",
        "    for j in range(i+1,len(random_matrix)-1):\n",
        "        random_matrix[i][j] = np.random.randint(2)\n",
        "        random_matrix[j][i] = random_matrix[i][j]\n",
        "\n",
        "# use random matrix as HamiltonianGate\n",
        "ExpGateRandom = HamiltonianGate(random_matrix, np.pi/3)"
      ],
      "execution_count": null,
      "outputs": []
    },
    {
      "cell_type": "code",
      "metadata": {
        "id": "UFzE0IoOU93L",
        "colab": {
          "base_uri": "https://localhost:8080/",
          "height": 231
        },
        "outputId": "a665fb34-1e26-4944-cbae-927c5452815a"
      },
      "source": [
        "# construct quantum circuit for random eight vertex graph\n",
        "qr_random = QuantumRegister(3, 'q')\n",
        "cr_random = ClassicalRegister(3)\n",
        "circ_random = QuantumCircuit(qr_random, cr_random)\n",
        "\n",
        "# initialize in state |100> and add measurements\n",
        "circ_random.x(0)\n",
        "circ_random.append(ExpGateRandom, qr_random)\n",
        "for i in range(len(qr_random)):\n",
        "    circ_random.measure(qr_random[i], cr_random[i])\n",
        "\n",
        "# visualize resulting circuit\n",
        "circ_random.draw(output='mpl')"
      ],
      "execution_count": null,
      "outputs": [
        {
          "output_type": "execute_result",
          "data": {
            "image/png": "[encoded data removed]",
            "text/plain": [
              "<Figure size 507.997x264.88 with 1 Axes>"
            ]
          },
          "metadata": {},
          "execution_count": 17
        }
      ]
    },
    {
      "cell_type": "code",
      "metadata": {
        "id": "qvqFWeSxulua",
        "colab": {
          "base_uri": "https://localhost:8080/",
          "height": 355
        },
        "outputId": "3bb45d88-0809-4704-8d61-1c6ea2b1f82b"
      },
      "source": [
        "# execute simulation of random graph QW and plot histogram\n",
        "job = execute(circ_random, backend=BasicAer.get_backend('qasm_simulator'))\n",
        "plot_histogram(job.result().get_counts(), color='midnightblue', title=\"Random 8-Vertex QW\")"
      ],
      "execution_count": null,
      "outputs": [
        {
          "output_type": "execute_result",
          "data": {
            "image/png": "[encoded data removed]",
            "text/plain": [
              "<Figure size 504x360 with 1 Axes>"
            ]
          },
          "metadata": {},
          "execution_count": 18
        }
      ]
    },
    {
      "cell_type": "markdown",
      "metadata": {
        "id": "z59XlTNeWMRg"
      },
      "source": [
        "While the above visualizations verify that our code for quantum walks is working correctly, we want to be able to visualize the overall evolution of the quantum walk on the graph instead of just the end result. In order to do this, we developed functions to evolve the state of the quantum system in small pieces, taking a \"snapshot\" of the state of the system after each iteration. This way, we will be able to better visualize how the \"quantum walker\" is moving throughout the graph."
      ]
    },
    {
      "cell_type": "code",
      "metadata": {
        "id": "W7w8k18ntDaN"
      },
      "source": [
        "def create_walk_circuit(adj_matrix, total_dur, num_snaps):\n",
        "    '''\n",
        "    Helper function for generating walk circuit with snapshots\n",
        "    after each evolution of the quantum walk.\n",
        "\n",
        "    Parameters: adj_matrix (ndarray):   adjacency of graph (2**n, 2**n)\n",
        "                total_dur (float):      total time for quantum walk\n",
        "                num_snaps (int):        number of snapshots throughout walk\n",
        "    Returns:    circ (QuantumCircuit):  resulting circuit\n",
        "    '''\n",
        "    # create matrix exponential gate and circuit\n",
        "    num_qubits = np.log2(len(adj_matrix))\n",
        "    ExpGate = HamiltonianGate(adj_matrix, total_dur / num_snaps)\n",
        "    qr = QuantumRegister(num_qubits, 'q')\n",
        "    cr = ClassicalRegister(num_qubits)\n",
        "    circ = QuantumCircuit(qr, cr)\n",
        "    \n",
        "    # intialize to state |0...01> and add gate with snapshots\n",
        "    circ.x(0)\n",
        "    circ.snapshot(str(0))\n",
        "    for i in range(num_snaps):\n",
        "        circ.append(ExpGate, qr)\n",
        "        circ.snapshot(str(i + 1))\n",
        "    \n",
        "    # return circuit\n",
        "    return circ"
      ],
      "execution_count": null,
      "outputs": []
    },
    {
      "cell_type": "code",
      "metadata": {
        "id": "3PsxpYbDuXbN",
        "colab": {
          "base_uri": "https://localhost:8080/",
          "height": 231
        },
        "outputId": "ac525cdb-b2f0-4a98-9fba-fa556260e34c"
      },
      "source": [
        "# visualize simple snapshot circuit for random matrix\n",
        "random_circuit = create_walk_circuit(random_matrix, 2*np.pi, 4)\n",
        "random_circuit.draw(output='mpl')"
      ],
      "execution_count": null,
      "outputs": [
        {
          "output_type": "execute_result",
          "data": {
            "image/png": "[encoded data removed]",
            "text/plain": [
              "<Figure size 1170.2x264.88 with 1 Axes>"
            ]
          },
          "metadata": {},
          "execution_count": 20
        }
      ]
    },
    {
      "cell_type": "code",
      "metadata": {
        "id": "tJaAcnwgy_at"
      },
      "source": [
        "def get_snapshots(adj_matrix, total_dur, num_snaps):\n",
        "    '''\n",
        "    Function for returning snapshots of quantum walk.\n",
        "\n",
        "    Parameters: adj_matrix (ndarray):   adjacency of graph (2**n, 2**n)\n",
        "                total_dur (float):      total time for quantum walk\n",
        "                num_snaps (int):        number of snapshots throughout walk\n",
        "    Returns:    map from iteration number to snapshot, snapshot counts\n",
        "                up from binary in ordering (00, 01, 10, 11, ...)\n",
        "    '''\n",
        "    qc = create_walk_circuit(adj_matrix, total_dur, num_snaps)\n",
        "    backend = Aer.get_backend('statevector_simulator')\n",
        "    result = execute(qc, backend).result()\n",
        "    return result.data()['snapshots']['statevector']"
      ],
      "execution_count": null,
      "outputs": []
    },
    {
      "cell_type": "code",
      "metadata": {
        "id": "a8oAYIdRzZjn",
        "colab": {
          "base_uri": "https://localhost:8080/"
        },
        "outputId": "ca8651e9-006f-41e0-fd9a-6764946d1a0e"
      },
      "source": [
        "# print example of returned map from get_snapshots\n",
        "print(\"Map:\", get_snapshots(full_mat_P3, 2*np.pi, 8))\n",
        "print(\"Starting State:\", get_snapshots(full_mat_P3, 2*np.pi, 8)['0'])"
      ],
      "execution_count": null,
      "outputs": [
        {
          "output_type": "stream",
          "name": "stdout",
          "text": [
            "Map: {'7': [array([ 0.        +0.j        ,  0.53942727+0.j        ,\n",
            "        0.        -0.70490494j,  0.        +0.j        ,\n",
            "       -0.46057273+0.j        ,  0.        +0.j        ,\n",
            "        0.        +0.j        ,  0.        +0.j        ])], '6': [array([ 0.        +0.j        ,  0.96412076+0.j        ,\n",
            "        0.        -0.26302822j,  0.        +0.j        ,\n",
            "       -0.03587924+0.j        ,  0.        +0.j        ,\n",
            "        0.        +0.j        ,  0.        +0.j        ])], '8': [array([ 0.        +0.j        ,  0.07089191+0.j        ,\n",
            "        0.        -0.36294971j,  0.        +0.j        ,\n",
            "       -0.92910809+0.j        ,  0.        +0.j        ,\n",
            "        0.        +0.j        ,  0.        +0.j        ])], '5': [array([ 0.        +0.j        ,  0.87272667+0.j        ,\n",
            "        0.        +0.47132756j,  0.        +0.j        ,\n",
            "       -0.12727333+0.j        ,  0.        +0.j        ,\n",
            "        0.        +0.j        ,  0.        +0.j        ])], '0': [array([0.+0.j, 1.+0.j, 0.+0.j, 0.+0.j, 0.+0.j, 0.+0.j, 0.+0.j, 0.+0.j])], '4': [array([ 0.        +0.j        ,  0.36687233+0.j        ,\n",
            "        0.        +0.68158202j,  0.        +0.j        ,\n",
            "       -0.63312767+0.j        ,  0.        +0.j        ,\n",
            "        0.        +0.j        ,  0.        +0.j        ])], '1': [array([ 0.        +0.j        ,  0.72200792+0.j        ,\n",
            "        0.        -0.63358107j,  0.        +0.j        ,\n",
            "       -0.27799208+0.j        ,  0.        +0.j        ,\n",
            "        0.        +0.j        ,  0.        +0.j        ])], '2': [array([ 0.        +0.j        ,  0.19715007+0.j        ,\n",
            "        0.        -0.56264006j,  0.        +0.j        ,\n",
            "       -0.80284993+0.j        ,  0.        +0.j        ,\n",
            "        0.        +0.j        ,  0.        +0.j        ])], '3': [array([ 0.        +0.j        ,  0.00905174+0.j        ,\n",
            "        0.        +0.13393887j,  0.        +0.j        ,\n",
            "       -0.99094826+0.j        ,  0.        +0.j        ,\n",
            "        0.        +0.j        ,  0.        +0.j        ])]}\n",
            "Starting State: [array([0.+0.j, 1.+0.j, 0.+0.j, 0.+0.j, 0.+0.j, 0.+0.j, 0.+0.j, 0.+0.j])]\n"
          ]
        }
      ]
    },
    {
      "cell_type": "markdown",
      "metadata": {
        "id": "UY6Z3OY4Gvy7"
      },
      "source": [
        "Now that we have a way to get snapshots from the graph, we can use these snapshots to visualize the evolution of the state of the graph. We first write a function to generate graphs at individual snapshots given the array of the amplitudes of the different qubits."
      ]
    },
    {
      "cell_type": "code",
      "metadata": {
        "id": "yp7kXT5RAR8P"
      },
      "source": [
        "def generate_digraph_at_snapshot(adj_matrix, amplitude_array):\n",
        "    '''\n",
        "    Helper function that creates a graph for each snapshot.\n",
        "\n",
        "    Parameters: adj_matrix (ndarray):       adjacency of graph (unpadded, nxn)\n",
        "                amplitude_array (ndarray):  value from snapshot dictionary for a specific snapshot\n",
        "    Returns: pydigraph and list of colors for each node in the graph\n",
        "    '''\n",
        "    g = retworkx.PyDiGraph()\n",
        "    n = len(adj_matrix)\n",
        "\n",
        "    # add nodes\n",
        "    #lst = [\"|\" + str(bin(i))[2:].zfill(int(np.log2(n))) + \">\" for i in range(n)]\n",
        "    lst = [\"|\" + str(bin(2**i))[2:].zfill(int(n)) + \">\" for i in range(n)]\n",
        "    g.add_nodes_from(lst)\n",
        "\n",
        "    # add edges\n",
        "    for i in range(len(adj_matrix)):\n",
        "        for j in range(len(adj_matrix[0])):\n",
        "            if adj_matrix[i][j] != 0:\n",
        "                g.add_edge(i, j, adj_matrix[i][j])\n",
        "\n",
        "    # compute colors based on how probable the node is\n",
        "    colors = []\n",
        "    for i in range(len(adj_matrix)):\n",
        "        alpha = abs(amplitude_array[2 ** i])\n",
        "\n",
        "        # rescale our transparency\n",
        "        alpha = alpha * 0.9 + 0.1\n",
        "        colors.append((0.0, 0.0, 1.0, alpha))\n",
        "    return g, colors"
      ],
      "execution_count": null,
      "outputs": []
    },
    {
      "cell_type": "markdown",
      "metadata": {
        "id": "CEXGu-ynHMID"
      },
      "source": [
        "Using this function, we can animate the quantum walk over the graph and save it as a gif. This particular function assumes the adjacency is unpadded and of dimension $n$x$n$, but could be easily modified to represent graphs with adjacency $2^{n}$x$2^{n}$, where $n$ is the number of qubits."
      ]
    },
    {
      "cell_type": "code",
      "metadata": {
        "id": "ltsgx5hFGHaP"
      },
      "source": [
        "def generate_gif(adj_matrix, snapshots, gifname=\"quantum_walk\", snapshot_dir=\".\"):\n",
        "    '''\n",
        "    Function that makes a gif of the quantum walk.\n",
        "\n",
        "    Parameters: adj_matrix (ndarray):       adjacency of graph (unpadded, nxn)\n",
        "                snapshots (ndarray dict):   map from iteration number to snapshot, snapshot counts\n",
        "                                            up from binary in ordering (00, 01, 10, 11 for 2 nodes)\n",
        "                gifname (string):           name of the gif file created\n",
        "                snapshot_dir (string):      name of the directory to store the snapshot png's\n",
        "    Returns: saves a gif to the notebook files\n",
        "    '''\n",
        "    n = len(snapshots.items())\n",
        "    pos = None\n",
        "    # create all the images of the graphs\n",
        "    for i in range(n):\n",
        "        g, colors = generate_digraph_at_snapshot(adj_matrix, snapshots[str(i)][0])\n",
        "\n",
        "        # save the position of the first graph so all subsequent graphs use the same node positioning\n",
        "        if i == 0:\n",
        "            pos = retworkx.spring_layout(g)\n",
        "\n",
        "        plt.clf()\n",
        "        mpl_draw(g, pos=pos, with_labels=True, labels=lambda node: node, arrows=False, node_size=1000, node_color= colors)\n",
        "        plt.draw()\n",
        "        plt.text(0.1, 0.1, 'snapshot ' + str(i), size=15, color='purple')\n",
        "        plt.savefig(snapshot_dir + '/snapshot' + str(i) + '.png')\n",
        "\n",
        "    # concatenate images into gif\n",
        "    images = []\n",
        "    filenames = [snapshot_dir + '/snapshot' + str(i) + '.png' for i in range(n)]\n",
        "    for filename in filenames:\n",
        "        images.append(imageio.imread(filename))\n",
        "        imageio.mimsave(gifname + \".gif\", images, duration = .5)"
      ],
      "execution_count": null,
      "outputs": []
    },
    {
      "cell_type": "markdown",
      "metadata": {
        "id": "r-saG95kH_KS"
      },
      "source": [
        "We call the function below for a path on three vertices, showing the final snapshot of the gif."
      ]
    },
    {
      "cell_type": "code",
      "metadata": {
        "id": "K6Yk0Iazv2z_",
        "colab": {
          "base_uri": "https://localhost:8080/",
          "height": 319
        },
        "outputId": "97684874-dbf5-4743-b5e5-99addf24994e"
      },
      "source": [
        "generate_gif(adj_P3, get_snapshots(full_mat_P3, 2*np.pi, 8))"
      ],
      "execution_count": null,
      "outputs": [
        {
          "output_type": "display_data",
          "data": {
            "image/png": "[encoded data removed]",
            "text/plain": [
              "<Figure size 432x288 with 1 Axes>"
            ]
          },
          "metadata": {}
        }
      ]
    },
    {
      "cell_type": "markdown",
      "metadata": {
        "id": "pxVHjEO0IHc0"
      },
      "source": [
        "For user-friendliness, we have combined several of the above functions into one single function. With the adjacency matrix of any graph, this function will pad the matrix to match the dimensionality, get the snapshots, and generate the visualization as a gif."
      ]
    },
    {
      "cell_type": "code",
      "metadata": {
        "id": "LfMjZlNvImYH"
      },
      "source": [
        "def visualize_walk(adj_matrix, total_dur, num_snaps, gifname=\"quantum_walk\", snapshot_dir=\".\"):\n",
        "    '''\n",
        "    Function for bringing it all together\n",
        "\n",
        "    Parameters: adj_matrix (ndarray):   adjacency of graph (unpadded, nxn)\n",
        "                total_dur (float):      total time for quantum walk\n",
        "                num_snaps (int):        number of snapshots throughout walk\n",
        "                gifname (string):       name of the gif file created\n",
        "                snapshot_dir (string):  name of the directory to store the snapshot png's\n",
        "    '''\n",
        "    pad_adj = pad_zeros(adj_matrix)\n",
        "    snaps = get_snapshots(pad_adj, total_dur, num_snaps)\n",
        "    generate_gif(adj_matrix, snaps, gifname, snapshot_dir)"
      ],
      "execution_count": null,
      "outputs": []
    },
    {
      "cell_type": "code",
      "metadata": {
        "colab": {
          "base_uri": "https://localhost:8080/",
          "height": 319
        },
        "id": "YoMg2s45Is6J",
        "outputId": "875fcb06-9580-4996-866b-6d3fd7d9d46e"
      },
      "source": [
        "visualize_walk(adj_P3, 2*np.pi, 32, \"P3_quantum_walk\", \"Snapshots\")"
      ],
      "execution_count": null,
      "outputs": [
        {
          "output_type": "display_data",
          "data": {
            "image/png": "[encoded data removed]",
            "text/plain": [
              "<Figure size 432x288 with 1 Axes>"
            ]
          },
          "metadata": {}
        }
      ]
    }
  ]
}