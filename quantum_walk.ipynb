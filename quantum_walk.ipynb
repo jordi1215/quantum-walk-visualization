{
  "nbformat": 4,
  "nbformat_minor": 0,
  "metadata": {
    "colab": {
      "name": "quantum_walk.ipynb",
      "provenance": [],
      "collapsed_sections": [],
      "include_colab_link": true
    },
    "kernelspec": {
      "name": "python3",
      "display_name": "Python 3"
    },
    "language_info": {
      "name": "python"
    }
  },
  "cells": [
    {
      "cell_type": "markdown",
      "metadata": {
        "id": "view-in-github",
        "colab_type": "text"
      },
      "source": [
        "<a href=\"https://colab.research.google.com/github/jordi1215/quantum-walk-visualization/blob/main/quantum_walk.ipynb\" target=\"_parent\"><img src=\"https://colab.research.google.com/assets/colab-badge.svg\" alt=\"Open In Colab\"/></a>"
      ]
    },
    {
      "cell_type": "code",
      "metadata": {
        "id": "Ndnbs3qNhSdr",
        "colab": {
          "base_uri": "https://localhost:8080/"
        },
        "outputId": "cb05c75f-4ba9-4c4e-e35e-c43f1e0accb0"
      },
      "source": [
        "!pip install retworkx\n",
        "!pip install pydot pillow\n",
        "!pip install qiskit\n",
        "!sudo apt install graphviz\n",
        "!sudo pip install pylatexenc\n",
        "\n",
        "import retworkx\n",
        "from retworkx.visualization import graphviz_draw, mpl_draw\n",
        "import pylatexenc\n",
        "import matplotlib.pyplot as plt\n",
        "from qiskit import *\n",
        "import numpy as np\n",
        "import networkx as nx\n",
        "import numpy.linalg as la\n",
        "from scipy.linalg import expm\n",
        "from qiskit.extensions import HamiltonianGate\n",
        "from qiskit.visualization import plot_histogram"
      ],
      "execution_count": 9,
      "outputs": [
        {
          "output_type": "stream",
          "name": "stdout",
          "text": [
            "Requirement already satisfied: retworkx in /usr/local/lib/python3.7/dist-packages (0.10.2)\n",
            "Requirement already satisfied: numpy>=1.16.0 in /usr/local/lib/python3.7/dist-packages (from retworkx) (1.19.5)\n",
            "Requirement already satisfied: pydot in /usr/local/lib/python3.7/dist-packages (1.3.0)\n",
            "Requirement already satisfied: pillow in /usr/local/lib/python3.7/dist-packages (7.1.2)\n",
            "Requirement already satisfied: pyparsing>=2.1.4 in /usr/local/lib/python3.7/dist-packages (from pydot) (2.4.7)\n",
            "Requirement already satisfied: qiskit in /usr/local/lib/python3.7/dist-packages (0.32.0)\n",
            "Requirement already satisfied: qiskit-terra==0.18.3 in /usr/local/lib/python3.7/dist-packages (from qiskit) (0.18.3)\n",
            "Requirement already satisfied: qiskit-aqua==0.9.5 in /usr/local/lib/python3.7/dist-packages (from qiskit) (0.9.5)\n",
            "Requirement already satisfied: qiskit-aer==0.9.1 in /usr/local/lib/python3.7/dist-packages (from qiskit) (0.9.1)\n",
            "Requirement already satisfied: qiskit-ignis==0.6.0 in /usr/local/lib/python3.7/dist-packages (from qiskit) (0.6.0)\n",
            "Requirement already satisfied: qiskit-ibmq-provider==0.18.0 in /usr/local/lib/python3.7/dist-packages (from qiskit) (0.18.0)\n",
            "Requirement already satisfied: scipy>=1.0 in /usr/local/lib/python3.7/dist-packages (from qiskit-aer==0.9.1->qiskit) (1.4.1)\n",
            "Requirement already satisfied: numpy>=1.16.3 in /usr/local/lib/python3.7/dist-packages (from qiskit-aer==0.9.1->qiskit) (1.19.5)\n",
            "Requirement already satisfied: fastdtw<=0.3.4 in /usr/local/lib/python3.7/dist-packages (from qiskit-aqua==0.9.5->qiskit) (0.3.4)\n",
            "Requirement already satisfied: pandas in /usr/local/lib/python3.7/dist-packages (from qiskit-aqua==0.9.5->qiskit) (1.1.5)\n",
            "Requirement already satisfied: psutil>=5 in /usr/local/lib/python3.7/dist-packages (from qiskit-aqua==0.9.5->qiskit) (5.4.8)\n",
            "Requirement already satisfied: docplex>=2.21.207 in /usr/local/lib/python3.7/dist-packages (from qiskit-aqua==0.9.5->qiskit) (2.22.213)\n",
            "Requirement already satisfied: h5py<3.3.0 in /usr/local/lib/python3.7/dist-packages (from qiskit-aqua==0.9.5->qiskit) (3.1.0)\n",
            "Requirement already satisfied: scikit-learn>=0.20.0 in /usr/local/lib/python3.7/dist-packages (from qiskit-aqua==0.9.5->qiskit) (1.0.1)\n",
            "Requirement already satisfied: quandl in /usr/local/lib/python3.7/dist-packages (from qiskit-aqua==0.9.5->qiskit) (3.7.0)\n",
            "Requirement already satisfied: setuptools>=40.1.0 in /usr/local/lib/python3.7/dist-packages (from qiskit-aqua==0.9.5->qiskit) (57.4.0)\n",
            "Requirement already satisfied: retworkx>=0.8.0 in /usr/local/lib/python3.7/dist-packages (from qiskit-aqua==0.9.5->qiskit) (0.10.2)\n",
            "Requirement already satisfied: dlx<=1.0.4 in /usr/local/lib/python3.7/dist-packages (from qiskit-aqua==0.9.5->qiskit) (1.0.4)\n",
            "Requirement already satisfied: sympy>=1.3 in /usr/local/lib/python3.7/dist-packages (from qiskit-aqua==0.9.5->qiskit) (1.7.1)\n",
            "Requirement already satisfied: yfinance>=0.1.62 in /usr/local/lib/python3.7/dist-packages (from qiskit-aqua==0.9.5->qiskit) (0.1.66)\n",
            "Requirement already satisfied: python-dateutil>=2.8.0 in /usr/local/lib/python3.7/dist-packages (from qiskit-ibmq-provider==0.18.0->qiskit) (2.8.2)\n",
            "Requirement already satisfied: requests-ntlm>=1.1.0 in /usr/local/lib/python3.7/dist-packages (from qiskit-ibmq-provider==0.18.0->qiskit) (1.1.0)\n",
            "Requirement already satisfied: websocket-client>=1.0.1 in /usr/local/lib/python3.7/dist-packages (from qiskit-ibmq-provider==0.18.0->qiskit) (1.2.1)\n",
            "Requirement already satisfied: urllib3>=1.21.1 in /usr/local/lib/python3.7/dist-packages (from qiskit-ibmq-provider==0.18.0->qiskit) (1.24.3)\n",
            "Requirement already satisfied: requests>=2.19 in /usr/local/lib/python3.7/dist-packages (from qiskit-ibmq-provider==0.18.0->qiskit) (2.23.0)\n",
            "Requirement already satisfied: python-constraint>=1.4 in /usr/local/lib/python3.7/dist-packages (from qiskit-terra==0.18.3->qiskit) (1.4.0)\n",
            "Requirement already satisfied: tweedledum<2.0,>=1.1 in /usr/local/lib/python3.7/dist-packages (from qiskit-terra==0.18.3->qiskit) (1.1.1)\n",
            "Requirement already satisfied: dill>=0.3 in /usr/local/lib/python3.7/dist-packages (from qiskit-terra==0.18.3->qiskit) (0.3.4)\n",
            "Requirement already satisfied: jsonschema>=2.6 in /usr/local/lib/python3.7/dist-packages (from qiskit-terra==0.18.3->qiskit) (2.6.0)\n",
            "Requirement already satisfied: fastjsonschema>=2.10 in /usr/local/lib/python3.7/dist-packages (from qiskit-terra==0.18.3->qiskit) (2.15.1)\n",
            "Requirement already satisfied: symengine>0.7 in /usr/local/lib/python3.7/dist-packages (from qiskit-terra==0.18.3->qiskit) (0.8.1)\n",
            "Requirement already satisfied: ply>=3.10 in /usr/local/lib/python3.7/dist-packages (from qiskit-terra==0.18.3->qiskit) (3.11)\n",
            "Requirement already satisfied: six in /usr/local/lib/python3.7/dist-packages (from docplex>=2.21.207->qiskit-aqua==0.9.5->qiskit) (1.15.0)\n",
            "Requirement already satisfied: cached-property in /usr/local/lib/python3.7/dist-packages (from h5py<3.3.0->qiskit-aqua==0.9.5->qiskit) (1.5.2)\n",
            "Requirement already satisfied: certifi>=2017.4.17 in /usr/local/lib/python3.7/dist-packages (from requests>=2.19->qiskit-ibmq-provider==0.18.0->qiskit) (2021.10.8)\n",
            "Requirement already satisfied: chardet<4,>=3.0.2 in /usr/local/lib/python3.7/dist-packages (from requests>=2.19->qiskit-ibmq-provider==0.18.0->qiskit) (3.0.4)\n",
            "Requirement already satisfied: idna<3,>=2.5 in /usr/local/lib/python3.7/dist-packages (from requests>=2.19->qiskit-ibmq-provider==0.18.0->qiskit) (2.10)\n",
            "Requirement already satisfied: cryptography>=1.3 in /usr/local/lib/python3.7/dist-packages (from requests-ntlm>=1.1.0->qiskit-ibmq-provider==0.18.0->qiskit) (35.0.0)\n",
            "Requirement already satisfied: ntlm-auth>=1.0.2 in /usr/local/lib/python3.7/dist-packages (from requests-ntlm>=1.1.0->qiskit-ibmq-provider==0.18.0->qiskit) (1.5.0)\n",
            "Requirement already satisfied: cffi>=1.12 in /usr/local/lib/python3.7/dist-packages (from cryptography>=1.3->requests-ntlm>=1.1.0->qiskit-ibmq-provider==0.18.0->qiskit) (1.15.0)\n",
            "Requirement already satisfied: pycparser in /usr/local/lib/python3.7/dist-packages (from cffi>=1.12->cryptography>=1.3->requests-ntlm>=1.1.0->qiskit-ibmq-provider==0.18.0->qiskit) (2.21)\n",
            "Requirement already satisfied: joblib>=0.11 in /usr/local/lib/python3.7/dist-packages (from scikit-learn>=0.20.0->qiskit-aqua==0.9.5->qiskit) (1.1.0)\n",
            "Requirement already satisfied: threadpoolctl>=2.0.0 in /usr/local/lib/python3.7/dist-packages (from scikit-learn>=0.20.0->qiskit-aqua==0.9.5->qiskit) (3.0.0)\n",
            "Requirement already satisfied: mpmath>=0.19 in /usr/local/lib/python3.7/dist-packages (from sympy>=1.3->qiskit-aqua==0.9.5->qiskit) (1.2.1)\n",
            "Requirement already satisfied: multitasking>=0.0.7 in /usr/local/lib/python3.7/dist-packages (from yfinance>=0.1.62->qiskit-aqua==0.9.5->qiskit) (0.0.9)\n",
            "Requirement already satisfied: lxml>=4.5.1 in /usr/local/lib/python3.7/dist-packages (from yfinance>=0.1.62->qiskit-aqua==0.9.5->qiskit) (4.6.4)\n",
            "Requirement already satisfied: pytz>=2017.2 in /usr/local/lib/python3.7/dist-packages (from pandas->qiskit-aqua==0.9.5->qiskit) (2018.9)\n",
            "Requirement already satisfied: more-itertools in /usr/local/lib/python3.7/dist-packages (from quandl->qiskit-aqua==0.9.5->qiskit) (8.11.0)\n",
            "Requirement already satisfied: inflection>=0.3.1 in /usr/local/lib/python3.7/dist-packages (from quandl->qiskit-aqua==0.9.5->qiskit) (0.5.1)\n",
            "Reading package lists... Done\n",
            "Building dependency tree       \n",
            "Reading state information... Done\n",
            "graphviz is already the newest version (2.40.1-2).\n",
            "0 upgraded, 0 newly installed, 0 to remove and 37 not upgraded.\n",
            "Requirement already satisfied: pylatexenc in /usr/local/lib/python3.7/dist-packages (2.10)\n"
          ]
        }
      ]
    },
    {
      "cell_type": "code",
      "metadata": {
        "colab": {
          "base_uri": "https://localhost:8080/",
          "height": 319
        },
        "id": "3ztOlPT60-bC",
        "outputId": "f7d1b8f5-6318-4e51-aed9-6ba9339ef551"
      },
      "source": [
        "import retworkx\n",
        "\n",
        "# input: adjacent matrix [[0,1],[1,0]]\n",
        "# output: graph\n",
        "\n",
        "graph = retworkx.PyDiGraph()\n",
        "graph.add_nodes_from([0,1])\n",
        "graph.add_edge(0,1,1)\n",
        "\n",
        "\n",
        "mpl_draw(graph, node_color=[(0, 0, 1, 1.0),(0,0,1,0.5)], with_labels=True, arrows=False, node_size=4000)\n",
        "plt.draw()"
      ],
      "execution_count": 81,
      "outputs": [
        {
          "output_type": "display_data",
          "data": {
            "image/png": "[encoded data removed]",
            "text/plain": [
              "<Figure size 432x288 with 1 Axes>"
            ]
          },
          "metadata": {}
        }
      ]
    },
    {
      "cell_type": "code",
      "metadata": {
        "id": "K6Yk0Iazv2z_",
        "colab": {
          "base_uri": "https://localhost:8080/",
          "height": 319
        },
        "outputId": "50c5da8f-431f-417e-8989-b37577d10890"
      },
      "source": [
        "adj_matrix = [[0, 1, 0, 0],\n",
        "              [0, 0, 0, 0],\n",
        "              [0, 0, 0, 0],\n",
        "              [0, 0, 0, 0]]\n",
        "\n",
        "def draw_from_adj_matrix(adj_matrix, amplitude_array):\n",
        "  g = retworkx.PyDiGraph()\n",
        "  n = len(adj_matrix)\n",
        "  lst = [\"|\" + str(bin(i))[2:].zfill(int(np.log2(n))) + \">\" for i in range(n)]\n",
        "  g.add_nodes_from(lst)\n",
        "  for i in range(len(adj_matrix)):\n",
        "    for j in range(len(adj_matrix[0])):\n",
        "      if adj_matrix[i][j] != 0:\n",
        "        g.add_edge(i, j, adj_matrix[i][j])\n",
        "  \n",
        "  colors = []\n",
        "  for i in range(len(adj_matrix)):\n",
        "    \n",
        "    alpha = abs(amplitude_array[2**i])\n",
        "    # rescale our transparency\n",
        "    alpha = alpha * 0.9 + 0.1\n",
        "    colors.append((0.0,0.0,1.0,alpha))\n",
        "  mpl_draw(g, with_labels=True, labels=lambda node: node, arrows=False, node_size=1000, node_color= colors)\n",
        "  plt.draw()\n",
        "\n",
        "draw_from_adj_matrix(adj_P3, get_snapshots(full_mat_P3, 2*np.pi, 8)['5'][0])\n",
        "#print(get_snapshots(full_mat_P2, 2*np.pi, 8)['0'][0])\n",
        "# https://stackoverflow.com/questions/51565679/draw-different-graphs-at-the-same-position-co-ordinates-in-python-using-networkx"
      ],
      "execution_count": 111,
      "outputs": [
        {
          "output_type": "display_data",
          "data": {
            "image/png": "[encoded data removed]",
            "text/plain": [
              "<Figure size 432x288 with 1 Axes>"
            ]
          },
          "metadata": {}
        }
      ]
    },
    {
      "cell_type": "markdown",
      "metadata": {
        "id": "13CaetFQOMjG"
      },
      "source": [
        "All of Ronak's and James' work on mathematical simulation is below this point."
      ]
    },
    {
      "cell_type": "code",
      "metadata": {
        "id": "I03tT7JlnimE"
      },
      "source": [
        "def pad_zeros(adjacency):\n",
        "    '''Function for padding zeros to increase adjacency \n",
        "    matrix of shape (n,n) to (2**n, 2**n).\n",
        "    \n",
        "    Parameters: adjacency (ndarray): adjacency of graph\n",
        "    Returns: full_matrix (ndarray): new adjacency with padded zeroes\n",
        "    '''\n",
        "    full_matrix = np.zeros((2**len(adjacency), 2**len(adjacency)))\n",
        "    for i in range(len(adjacency)):\n",
        "        for j in range(len(adjacency)):\n",
        "            if adjacency[i][j] != 0:\n",
        "                full_matrix[2**i][2**j] = adjacency[i][j]\n",
        "    return full_matrix"
      ],
      "execution_count": 12,
      "outputs": []
    },
    {
      "cell_type": "markdown",
      "metadata": {
        "id": "YaI6rIo7PTW1"
      },
      "source": [
        "In the following block of code, we construct a simple path on two vertices and path on three vertices. We also show the function of the pad_zeros function, increasing the dimensionality of the adjacencies to fit our needs."
      ]
    },
    {
      "cell_type": "code",
      "metadata": {
        "id": "9BIUKjtGoNHo"
      },
      "source": [
        "# construct path on 2 and three vertices and get adjacency\n",
        "P2 = nx.path_graph(2)\n",
        "P3 = nx.path_graph(3)\n",
        "adj_P2 = nx.adjacency_matrix(P2).toarray()\n",
        "adj_P3 = nx.adjacency_matrix(P3).toarray()\n",
        "\n",
        "# pad adjacency with zeroes to increase dimensionality\n",
        "full_mat_P2 = pad_zeros(adj_P2)\n",
        "full_mat_P3 = pad_zeros(adj_P3)"
      ],
      "execution_count": 13,
      "outputs": []
    },
    {
      "cell_type": "markdown",
      "metadata": {
        "id": "22w8VOrdQCfh"
      },
      "source": [
        "We can use the adjacency matrix ($A$) as the Hamiltonian operator ($H$) of the quantum system, satisfying the Schrodinger equation $i \\hbar \\dot{\\psi}=H\\psi$. The adjacency matrices are Hermitian, and so $e^{-iAt}$ (the solution to this equation) is a unitary matrix. We can use this matrix exponential as the evolution operator on our quantum system of qubits. These are constructed using qiskit's HamiltonianGate object."
      ]
    },
    {
      "cell_type": "code",
      "metadata": {
        "id": "C1vC1OKLoiOO"
      },
      "source": [
        "# construct HamiltonianGate from padded adjacencies\n",
        "ExpGateP2 = HamiltonianGate(full_mat_P2, np.pi/2)\n",
        "ExpGateP3 = HamiltonianGate(full_mat_P3, np.pi/2)"
      ],
      "execution_count": 14,
      "outputs": []
    },
    {
      "cell_type": "markdown",
      "metadata": {
        "id": "AMGXxpXyST_-"
      },
      "source": [
        "We can now use these gates in a quantum circuit to simulate a quantum walk. We put the state of the system in $|01>$ and evolve it over a time interval of $\\frac{\\pi}{2}$. We can measure each qubit to get the final state of the system. "
      ]
    },
    {
      "cell_type": "code",
      "metadata": {
        "id": "wyYx66dFo5uu"
      },
      "source": [
        "# construct quantum circuit for path on two vertices\n",
        "qr_P2 = QuantumRegister(2, 'q')\n",
        "cr_P2 = ClassicalRegister(2)\n",
        "circ_P2 = QuantumCircuit(qr_P2, cr_P2)\n",
        "\n",
        "# initialize in state |100> and add measurements\n",
        "circ_P2.x(0)\n",
        "circ_P2.append(ExpGateP2, qr_P2)\n",
        "for i in range(len(qr_P2)):\n",
        "    circ_P2.measure(qr_P2[i], cr_P2[i])"
      ],
      "execution_count": 38,
      "outputs": []
    },
    {
      "cell_type": "code",
      "metadata": {
        "id": "KptTc8O9pZcF",
        "colab": {
          "base_uri": "https://localhost:8080/",
          "height": 185
        },
        "outputId": "9c27741e-a4a5-4ee3-8265-5a026b98e4ea"
      },
      "source": [
        "# visualize quantum circuit\n",
        "circ_P2.draw(output='mpl')"
      ],
      "execution_count": 16,
      "outputs": [
        {
          "output_type": "execute_result",
          "data": {
            "image/png": "[encoded data removed]",
            "text/plain": [
              "<Figure size 447.652x204.68 with 1 Axes>"
            ]
          },
          "metadata": {},
          "execution_count": 16
        }
      ]
    },
    {
      "cell_type": "markdown",
      "metadata": {
        "id": "FW7-GzixTZNa"
      },
      "source": [
        "We know from the mathematical literature on quantum walks that a path on two vertices exhibits \"perfect state transfer\" (PST) at time $\\frac{\\pi}{2}$, and so the result of this circuit should always yield $|10>$ if it starts in the state $|01>$ and vice-versa. Below, we show that the resulting counts reflect this property of the graph."
      ]
    },
    {
      "cell_type": "code",
      "metadata": {
        "id": "KJ0wawXyS8Cs",
        "colab": {
          "base_uri": "https://localhost:8080/"
        },
        "outputId": "15238dc8-048c-4cd8-e77d-c0c9ec4a6809"
      },
      "source": [
        "# simulate circuit from path on two vertices\n",
        "job = execute(circ_P2, backend=BasicAer.get_backend('qasm_simulator'))\n",
        "counts = [job.result().get_counts(i) for i in range(len(job.result().results))]\n",
        "print(\"Resulting Counts:\", counts)"
      ],
      "execution_count": 17,
      "outputs": [
        {
          "output_type": "stream",
          "name": "stdout",
          "text": [
            "Resulting Counts: [{'10': 1024}]\n"
          ]
        }
      ]
    },
    {
      "cell_type": "markdown",
      "metadata": {
        "id": "bpqo0LhuT7P4"
      },
      "source": [
        "We repeat a similar process as above for the path on three vertices."
      ]
    },
    {
      "cell_type": "code",
      "metadata": {
        "id": "KkkGjd5-pPlq"
      },
      "source": [
        "# construct quantum circuit for path on three vertices\n",
        "qr_P3 = QuantumRegister(3, 'q')\n",
        "cr_P3 = ClassicalRegister(3)\n",
        "circ_P3 = QuantumCircuit(qr_P3, cr_P3)\n",
        "\n",
        "# initialize in state |100> and add measurements\n",
        "circ_P3.x(0)\n",
        "circ_P3.append(ExpGateP3, qr_P3)\n",
        "for i in range(len(qr_P3)):\n",
        "    circ_P3.measure(qr_P3[i], cr_P3[i])"
      ],
      "execution_count": 18,
      "outputs": []
    },
    {
      "cell_type": "code",
      "metadata": {
        "id": "i6CMHXJxpejj",
        "colab": {
          "base_uri": "https://localhost:8080/",
          "height": 231
        },
        "outputId": "3830dd18-7ae9-451f-fe2d-f0ec85373dde"
      },
      "source": [
        "# visualize quantum circuit\n",
        "circ_P3.draw(output='mpl')"
      ],
      "execution_count": 19,
      "outputs": [
        {
          "output_type": "execute_result",
          "data": {
            "image/png": "[encoded data removed]",
            "text/plain": [
              "<Figure size 507.997x264.88 with 1 Axes>"
            ]
          },
          "metadata": {},
          "execution_count": 19
        }
      ]
    },
    {
      "cell_type": "markdown",
      "metadata": {
        "id": "k-E-vwH4UJ-x"
      },
      "source": [
        "Since the path on three vertices does not have PST at time $\\frac{\\pi}{2}$, we see that the resulting counts are distributed unevenly between the three different vertices. We also display these results in a histogram."
      ]
    },
    {
      "cell_type": "code",
      "metadata": {
        "id": "n-Vb-R4AUEjC",
        "colab": {
          "base_uri": "https://localhost:8080/",
          "height": 372
        },
        "outputId": "f614a6c9-e068-42c3-907b-0339e31a8eee"
      },
      "source": [
        "# simulate circuit from path on two vertices\n",
        "job = execute(circ_P3, backend=BasicAer.get_backend('qasm_simulator'))\n",
        "counts = [job.result().get_counts(i) for i in range(len(job.result().results))]\n",
        "print(\"Resulting Counts:\", counts)\n",
        "plot_histogram(job.result().get_counts(), color='midnightblue', title=\"Histogram of QW on P3\")"
      ],
      "execution_count": 20,
      "outputs": [
        {
          "output_type": "stream",
          "name": "stdout",
          "text": [
            "Resulting Counts: [{'100': 680, '010': 294, '001': 50}]\n"
          ]
        },
        {
          "output_type": "execute_result",
          "data": {
            "image/png": "[encoded data removed]",
            "text/plain": [
              "<Figure size 504x360 with 1 Axes>"
            ]
          },
          "metadata": {},
          "execution_count": 20
        }
      ]
    },
    {
      "cell_type": "markdown",
      "metadata": {
        "id": "EFy3A_V-P1bR"
      },
      "source": [
        "Below we illustrate a different approach for representing qubits as a graph. While each qubit above corresponded to a node on the graph, we can instead represent more nodes on the graph by having each bitstring correspond to a different node. The quantum walk in both approaches works out the same mathematically and can thus be visualized similarly."
      ]
    },
    {
      "cell_type": "code",
      "metadata": {
        "id": "__OqyFKhrhrF"
      },
      "source": [
        "# construct random 8x8 matrix (3 qubits)\n",
        "random_matrix = np.zeros((8,8))\n",
        "for i in range(0,len(random_matrix)-1):\n",
        "    for j in range(i+1,len(random_matrix)-1):\n",
        "        random_matrix[i][j] = np.random.randint(2)\n",
        "        random_matrix[j][i] = random_matrix[i][j]\n",
        "\n",
        "# use random matrix as HamiltonianGate\n",
        "ExpGateRandom = HamiltonianGate(random_matrix, np.pi/3)"
      ],
      "execution_count": 43,
      "outputs": []
    },
    {
      "cell_type": "code",
      "metadata": {
        "id": "UFzE0IoOU93L",
        "colab": {
          "base_uri": "https://localhost:8080/",
          "height": 231
        },
        "outputId": "8387fae2-bd6b-4370-ff88-cfb392003129"
      },
      "source": [
        "# construct quantum circuit for random eight vertex graph\n",
        "qr_random = QuantumRegister(3, 'q')\n",
        "cr_random = ClassicalRegister(3)\n",
        "circ_random = QuantumCircuit(qr_random, cr_random)\n",
        "\n",
        "# initialize in state |100> and add measurements\n",
        "circ_random.x(0)\n",
        "circ_random.append(ExpGateRandom, qr_random)\n",
        "for i in range(len(qr_random)):\n",
        "    circ_random.measure(qr_random[i], cr_random[i])\n",
        "\n",
        "# visualize resulting circuit\n",
        "circ_random.draw(output='mpl')"
      ],
      "execution_count": 44,
      "outputs": [
        {
          "output_type": "execute_result",
          "data": {
            "image/png": "[encoded data removed]",
            "text/plain": [
              "<Figure size 507.997x264.88 with 1 Axes>"
            ]
          },
          "metadata": {},
          "execution_count": 44
        }
      ]
    },
    {
      "cell_type": "code",
      "metadata": {
        "id": "qvqFWeSxulua",
        "colab": {
          "base_uri": "https://localhost:8080/",
          "height": 355
        },
        "outputId": "9c925f13-6d16-4b02-bb88-97eb351c7edc"
      },
      "source": [
        "# execute simulation of random graph QW and plot histogram\n",
        "job = execute(circ_random, backend=BasicAer.get_backend('qasm_simulator'))\n",
        "plot_histogram(job.result().get_counts(), color='midnightblue', title=\"Random 8-Vertex QW\")"
      ],
      "execution_count": 48,
      "outputs": [
        {
          "output_type": "execute_result",
          "data": {
            "image/png": "[encoded data removed]",
            "text/plain": [
              "<Figure size 504x360 with 1 Axes>"
            ]
          },
          "metadata": {},
          "execution_count": 48
        }
      ]
    },
    {
      "cell_type": "markdown",
      "metadata": {
        "id": "z59XlTNeWMRg"
      },
      "source": [
        "While the above visualizations verify that our code for quantum walks is working correctly, we want to be able to visualize the overall evolution of the quantum walk on the graph instead of just the end result. In order to do this, we developed functions to evolve the state of the quantum system in small pieces, taking a \"snapshot\" of the state of the system after each iteration. This way, we will be able to better visualize how the \"quantum walker\" is moving throughout the graph."
      ]
    },
    {
      "cell_type": "code",
      "metadata": {
        "id": "W7w8k18ntDaN"
      },
      "source": [
        "def create_walk_circuit(adj_matrix, total_dur, num_snaps):\n",
        "    '''Function for generating walk circuit with snapshots\n",
        "    after each evolution of the quantum walk.\n",
        "    \n",
        "    Parameters: adj_matrix (ndarray):   adjacency of graph\n",
        "                total_dur (float):      total time for quantum walk\n",
        "                num_snaps (int):        number of snapshots throughout walk\n",
        "    Returns:    circ (QuantumCircuit):  resulting circuit\n",
        "    '''\n",
        "    num_qubits = np.log2(len(adj_matrix))\n",
        "    ExpGate = HamiltonianGate(adj_matrix, total_dur/num_snaps)\n",
        "\n",
        "    qr = QuantumRegister(num_qubits, 'q')\n",
        "    cr = ClassicalRegister(num_qubits)\n",
        "    circ = QuantumCircuit(qr, cr)\n",
        "\n",
        "    circ.x(0)\n",
        "    circ.snapshot(str(0))\n",
        "    for i in range(num_snaps):\n",
        "        circ.append(ExpGate, qr)\n",
        "        circ.snapshot(str(i+1))\n",
        "\n",
        "    return circ"
      ],
      "execution_count": 24,
      "outputs": []
    },
    {
      "cell_type": "code",
      "metadata": {
        "id": "3PsxpYbDuXbN",
        "colab": {
          "base_uri": "https://localhost:8080/",
          "height": 231
        },
        "outputId": "86307ba9-fd1e-4f08-aebe-f036180e5851"
      },
      "source": [
        "# visualize simple snapshot circuit for random matrix\n",
        "random_circuit = create_walk_circuit(random_matrix, 2*np.pi, 4)\n",
        "random_circuit.draw(output='mpl')"
      ],
      "execution_count": 25,
      "outputs": [
        {
          "output_type": "execute_result",
          "data": {
            "image/png": "[encoded data removed]",
            "text/plain": [
              "<Figure size 1170.2x264.88 with 1 Axes>"
            ]
          },
          "metadata": {},
          "execution_count": 25
        }
      ]
    },
    {
      "cell_type": "code",
      "metadata": {
        "id": "tJaAcnwgy_at"
      },
      "source": [
        "def get_snapshots(adj_matrix, total_dur, num_snaps):\n",
        "    '''Function for returning snapshots of quantum walk.\n",
        "\n",
        "    Parameters: adj_matrix (ndarray):   adjacency of graph\n",
        "                total_dur (float):      total time for quantum walk\n",
        "                num_snaps (int):        number of snapshots throughout walk\n",
        "    Returns:    map from iteration number to snapshot, snapshot counts \n",
        "                up from binary in ordering (00, 01, 10, 11, ...)\n",
        "    '''\n",
        "    qc = create_walk_circuit(adj_matrix, total_dur, num_snaps)\n",
        "    backend = Aer.get_backend('statevector_simulator')\n",
        "    result = execute(qc, backend).result()\n",
        "    return result.data()['snapshots']['statevector']"
      ],
      "execution_count": 26,
      "outputs": []
    },
    {
      "cell_type": "code",
      "metadata": {
        "id": "a8oAYIdRzZjn",
        "colab": {
          "base_uri": "https://localhost:8080/"
        },
        "outputId": "ec28bf7b-7f24-4128-fdee-dfd2112966d2"
      },
      "source": [
        "# print example of returned map from get_snapshots\n",
        "#print(\"Map:\", get_snapshots(full_mat_P3, 2*np.pi, 8))\n",
        "print(\"Starting State:\", get_snapshots(full_mat_P3, 2*np.pi, 8)['7'])"
      ],
      "execution_count": 97,
      "outputs": [
        {
          "output_type": "stream",
          "name": "stdout",
          "text": [
            "Starting State: [array([ 0.        +0.j        ,  0.53942727+0.j        ,\n",
            "        0.        -0.70490494j,  0.        +0.j        ,\n",
            "       -0.46057273+0.j        ,  0.        +0.j        ,\n",
            "        0.        +0.j        ,  0.        +0.j        ])]\n"
          ]
        }
      ]
    }
  ]
}